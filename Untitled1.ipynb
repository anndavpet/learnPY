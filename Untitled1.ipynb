{
 "cells": [
  {
   "cell_type": "code",
   "execution_count": 6,
   "id": "197507f9",
   "metadata": {},
   "outputs": [],
   "source": [
    "things = {'карандаш': 20, 'зеркальце': 100, 'зонт': 500, 'рубашка': 300, \n",
    "          'брюки': 1000, 'бумага': 200, 'молоток': 600, 'пила': 400, 'удочка': 1200,\n",
    "          'расческа': 40, 'котелок': 820, 'палатка': 5240, 'брезент': 2130, 'спички': 10}\n",
    "\n",
    "inverse_dict = {}\n",
    "\n",
    "lst = []\n",
    "\n",
    "for key, value in things.items():\n",
    "    inverse_dict[value] = key"
   ]
  },
  {
   "cell_type": "code",
   "execution_count": 7,
   "id": "12edb9c8",
   "metadata": {},
   "outputs": [
    {
     "data": {
      "text/plain": [
       "{20: 'карандаш',\n",
       " 100: 'зеркальце',\n",
       " 500: 'зонт',\n",
       " 300: 'рубашка',\n",
       " 1000: 'брюки',\n",
       " 200: 'бумага',\n",
       " 600: 'молоток',\n",
       " 400: 'пила',\n",
       " 1200: 'удочка',\n",
       " 40: 'расческа',\n",
       " 820: 'котелок',\n",
       " 5240: 'палатка',\n",
       " 2130: 'брезент',\n",
       " 10: 'спички'}"
      ]
     },
     "execution_count": 7,
     "metadata": {},
     "output_type": "execute_result"
    }
   ],
   "source": [
    "inverse_dict"
   ]
  },
  {
   "cell_type": "code",
   "execution_count": 8,
   "id": "f9960619",
   "metadata": {},
   "outputs": [],
   "source": [
    "for i in inverse_dict:\n",
    "    lst.append(i)"
   ]
  },
  {
   "cell_type": "code",
   "execution_count": 9,
   "id": "69d5adf5",
   "metadata": {},
   "outputs": [
    {
     "data": {
      "text/plain": [
       "[20, 100, 500, 300, 1000, 200, 600, 400, 1200, 40, 820, 5240, 2130, 10]"
      ]
     },
     "execution_count": 9,
     "metadata": {},
     "output_type": "execute_result"
    }
   ],
   "source": [
    "lst"
   ]
  },
  {
   "cell_type": "code",
   "execution_count": 10,
   "id": "a480a1cc",
   "metadata": {},
   "outputs": [],
   "source": [
    "lst.sort()"
   ]
  },
  {
   "cell_type": "code",
   "execution_count": 11,
   "id": "293caef9",
   "metadata": {},
   "outputs": [
    {
     "data": {
      "text/plain": [
       "[10, 20, 40, 100, 200, 300, 400, 500, 600, 820, 1000, 1200, 2130, 5240]"
      ]
     },
     "execution_count": 11,
     "metadata": {},
     "output_type": "execute_result"
    }
   ],
   "source": [
    "lst"
   ]
  },
  {
   "cell_type": "code",
   "execution_count": null,
   "id": "55b0b7b4",
   "metadata": {},
   "outputs": [],
   "source": []
  }
 ],
 "metadata": {
  "kernelspec": {
   "display_name": "Python 3 (ipykernel)",
   "language": "python",
   "name": "python3"
  },
  "language_info": {
   "codemirror_mode": {
    "name": "ipython",
    "version": 3
   },
   "file_extension": ".py",
   "mimetype": "text/x-python",
   "name": "python",
   "nbconvert_exporter": "python",
   "pygments_lexer": "ipython3",
   "version": "3.10.4"
  }
 },
 "nbformat": 4,
 "nbformat_minor": 5
}
